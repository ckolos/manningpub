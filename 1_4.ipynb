{
 "cells": [
  {
   "cell_type": "code",
   "execution_count": 7,
   "metadata": {},
   "outputs": [],
   "source": [
    "import geonamescache\n",
    "import pandas as pd\n",
    "import numpy as np\n",
    "import re\n",
    "import sys\n",
    "import spacy\n",
    "import pdb\n",
    "from unidecode import unidecode"
   ]
  },
  {
   "cell_type": "code",
   "execution_count": 8,
   "metadata": {},
   "outputs": [],
   "source": [
    "def lookup(lookuptype, doc):\n",
    "    for ent in doc.ents:\n",
    "        if ent.label_ == \"GPE\":\n",
    "            if ent.text == \"Zika\":\n",
    "                continue\n",
    "            if ent.text in lookuptype:\n",
    "                return(ent.text)\n",
    "    else:\n",
    "        return(np.nan)"
   ]
  },
  {
   "cell_type": "code",
   "execution_count": 9,
   "metadata": {},
   "outputs": [],
   "source": [
    "try:\n",
    "    with open(\"discovering-disease-outbreaks-base/data/headlines.txt\") as f:\n",
    "        headlines = f.readlines()\n",
    "        f.close()\n",
    "except OSError as e:\n",
    "    print(\"Error: \", e)"
   ]
  },
  {
   "cell_type": "code",
   "execution_count": 10,
   "metadata": {},
   "outputs": [],
   "source": [
    "gc = geonamescache.GeonamesCache()\n",
    "cities = [unidecode(x['name']) for x in gc.get_cities().values()] \n",
    "countries = [unidecode(x) for x in gc.get_countries_by_names().keys()]\n",
    "headlines_dict = dict()\n",
    "\n",
    "nlp = spacy.load(\"en_core_web_lg\")"
   ]
  },
  {
   "cell_type": "code",
   "execution_count": 11,
   "metadata": {},
   "outputs": [],
   "source": [
    "for counter in range(0,len(headlines)):\n",
    "    headlines_dict[counter] = {}\n",
    "\n",
    "    line = headlines[counter].strip()\n",
    "    headlines_dict[counter]['headline'] = line\n",
    "\n",
    "    doc = nlp(line)\n",
    "\n",
    "    country = lookup(countries, doc)\n",
    "    headlines_dict[counter]['countries'] = country\n",
    "\n",
    "    city = lookup(cities, doc)\n",
    "    headlines_dict[counter]['cities'] = city\n"
   ]
  },
  {
   "cell_type": "code",
   "execution_count": 12,
   "metadata": {},
   "outputs": [
    {
     "name": "stdout",
     "output_type": "stream",
     "text": [
      "                                              Headline Country           City\n",
      "0                             Zika Outbreak Hits Miami     NaN          Miami\n",
      "1                      Could Zika Reach New York City?     NaN  New York City\n",
      "2                    First Case of Zika in Miami Beach     NaN    Miami Beach\n",
      "3              Mystery Virus Spreads in Recife, Brazil  Brazil         Recife\n",
      "4              Dallas man comes down with case of Zika     NaN         Dallas\n",
      "..                                                 ...     ...            ...\n",
      "645  Rumors about Rabies spreading in Jerusalem hav...     NaN      Jerusalem\n",
      "646              More Zika patients reported in Indang     NaN         Indang\n",
      "647  Suva authorities confirmed the spread of Rotav...     NaN           Suva\n",
      "648         More Zika patients reported in Bella Vista     NaN            NaN\n",
      "649                     Zika Outbreak in Wichita Falls     NaN  Wichita Falls\n",
      "\n",
      "[650 rows x 3 columns]\n"
     ]
    }
   ],
   "source": [
    "f = zip([headlines_dict[x]['headline'] for x in headlines_dict.keys()],\n",
    "        [headlines_dict[x]['countries'] for x in headlines_dict.keys()],\n",
    "        [headlines_dict[x]['cities'] for x in headlines_dict.keys()])\n",
    "my_df = pd.DataFrame(f, columns =[\"Headline\", \"Country\", \"City\"])\n",
    "print(my_df)"
    "from IPython.display import diplay, HTML"
    "display(HTML(my_df.to_html()))"
   ]
  },
  {
   "cell_type": "code",
   "execution_count": null,
   "metadata": {},
   "outputs": [],
   "source": []
  }
 ],
 "metadata": {
  "kernelspec": {
   "display_name": "Python 3",
   "language": "python",
   "name": "python3"
  },
  "language_info": {
   "codemirror_mode": {
    "name": "ipython",
    "version": 3
   },
   "file_extension": ".py",
   "mimetype": "text/x-python",
   "name": "python",
   "nbconvert_exporter": "python",
   "pygments_lexer": "ipython3",
   "version": "3.7.6"
  }
 },
 "nbformat": 4,
 "nbformat_minor": 2
}
